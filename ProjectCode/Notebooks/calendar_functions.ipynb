{
 "cells": [
  {
   "cell_type": "markdown",
   "metadata": {},
   "source": [
    "# Libraries"
   ]
  },
  {
   "cell_type": "code",
   "execution_count": 1,
   "metadata": {},
   "outputs": [],
   "source": [
    "from google.oauth2.credentials import Credentials\n",
    "from google_auth_oauthlib.flow import InstalledAppFlow\n",
    "from googleapiclient.discovery import build\n",
    "import os\n",
    "import datetime\n",
    "import pandas as pd"
   ]
  },
  {
   "cell_type": "markdown",
   "metadata": {},
   "source": [
    "# Token Creation"
   ]
  },
  {
   "cell_type": "code",
   "execution_count": 2,
   "metadata": {},
   "outputs": [],
   "source": [
    "def create_token_file(credentials_path='../UserCredentials/credentials.json', token_path='../UserCredentials/token.json'):\n",
    "    \"\"\"\n",
    "    Generate a token file for authenticating with the Google Calendar API.\n",
    "\n",
    "    This function uses the OAuth 2.0 Installed Application flow to authenticate a user\n",
    "    and create a token file that allows access to the Google Calendar API.\n",
    "\n",
    "    Args:\n",
    "        credentials_path (str): Path to the client secrets JSON file obtained from the Google Developer Console.\n",
    "        token_path (str): Path to save the generated token file.\n",
    "\n",
    "    Returns:\n",
    "        None: The function saves the token to the specified path.\n",
    "    \n",
    "    Raises:\n",
    "        FileNotFoundError: If the credentials file is not found at the given path.\n",
    "        Exception: For any other errors during the token creation process.\n",
    "\n",
    "    Example Usage:\n",
    "        # Assuming you have your credentials JSON file at './credentials.json' and \n",
    "        # want to save the token at './token.json':\n",
    "\n",
    "        create_token_file(\n",
    "            credentials_path='./credentials.json',\n",
    "            token_path='./token.json'\n",
    "        )\n",
    "    \"\"\"\n",
    "    # Scopes indicate what aspects of the user's Google account you want access to\n",
    "    scopes = ['https://www.googleapis.com/auth/calendar']\n",
    "\n",
    "    try:\n",
    "        # Check if credentials file exists\n",
    "        if not os.path.exists(credentials_path):\n",
    "            raise FileNotFoundError(f\"Credentials file not found at: {credentials_path}\")\n",
    "        \n",
    "        # Create the flow using the client secrets file from the Google Developer Console\n",
    "        flow = InstalledAppFlow.from_client_secrets_file(credentials_path, scopes=scopes)\n",
    "\n",
    "        # Run the flow to generate the token\n",
    "        creds = flow.run_local_server(port=0)\n",
    "\n",
    "        # Ensure the directory for the token file exists\n",
    "        os.makedirs(os.path.dirname(token_path), exist_ok=True)\n",
    "\n",
    "        # Save the credentials to a token file\n",
    "        with open(token_path, 'w') as token:\n",
    "            token.write(creds.to_json())\n",
    "\n",
    "        print(f\"Token successfully stored in {token_path}\")\n",
    "\n",
    "    except FileNotFoundError as e:\n",
    "        print(f\"Error: {e}\")\n",
    "    except Exception as e:\n",
    "        print(f\"An unexpected error occurred: {e}\")\n"
   ]
  },
  {
   "cell_type": "code",
   "execution_count": 3,
   "metadata": {},
   "outputs": [
    {
     "name": "stdout",
     "output_type": "stream",
     "text": [
      "Please visit this URL to authorize this application: https://accounts.google.com/o/oauth2/auth?response_type=code&client_id=226204716140-mqn2q79c0t8vhlsdldmpt52d13kdku34.apps.googleusercontent.com&redirect_uri=http%3A%2F%2Flocalhost%3A52806%2F&scope=https%3A%2F%2Fwww.googleapis.com%2Fauth%2Fcalendar&state=W1STwFY3P4rw0fxvDxnBQttzZa9uB0&access_type=offline\n",
      "Token successfully stored in ../UserCredentials/token.json\n"
     ]
    }
   ],
   "source": [
    "## usage\n",
    "create_token_file() # for authentication"
   ]
  },
  {
   "cell_type": "markdown",
   "metadata": {},
   "source": [
    "# setup calendar service"
   ]
  },
  {
   "cell_type": "code",
   "execution_count": 4,
   "metadata": {},
   "outputs": [],
   "source": [
    "def setup_calendar_service(credentials_path='../UserCredentials/credentials.json',\n",
    "                           token_path='../UserCredentials/token.json'):\n",
    "    \"\"\"\n",
    "    Set up and return a service object for accessing the Google Calendar API.\n",
    "\n",
    "    This function ensures the user is authenticated with OAuth 2.0. If a valid token file exists,\n",
    "    it uses it for authentication. Otherwise, it initiates the OAuth flow and creates a new token file.\n",
    "\n",
    "    Args:\n",
    "        credentials_path (str): Path to the OAuth 2.0 Client Credentials JSON file.\n",
    "        token_path (str): Path to save the OAuth 2.0 tokens after the first successful authentication.\n",
    "\n",
    "    Returns:\n",
    "        googleapiclient.discovery.Resource: A service object for interacting with the Google Calendar API.\n",
    "\n",
    "    Raises:\n",
    "        FileNotFoundError: If the credentials file is not found at the specified path.\n",
    "        Exception: For other unexpected errors during authentication or service creation.\n",
    "\n",
    "    Example Usage:\n",
    "        # Initialize the Google Calendar API service\n",
    "        service = setup_calendar_service(\n",
    "            credentials_path='./credentials.json',\n",
    "            token_path='./token.json'\n",
    "        )\n",
    "\n",
    "        # Now you can use the `service` object to interact with the Calendar API\n",
    "        calendar_list = service.calendarList().list().execute()\n",
    "        print(calendar_list)\n",
    "    \"\"\"\n",
    "    SCOPES = ['https://www.googleapis.com/auth/calendar']\n",
    "\n",
    "    try:\n",
    "        # Check if credentials file exists\n",
    "        if not os.path.exists(credentials_path):\n",
    "            raise FileNotFoundError(f\"Credentials file not found at: {credentials_path}\")\n",
    "\n",
    "        # Attempt to load existing credentials from the token file\n",
    "        if os.path.exists(token_path):\n",
    "            creds = Credentials.from_authorized_user_file(token_path, SCOPES)\n",
    "        else:\n",
    "            # If the token file does not exist, initiate the OAuth flow\n",
    "            flow = InstalledAppFlow.from_client_secrets_file(credentials_path, SCOPES)\n",
    "            creds = flow.run_local_server(port=0)\n",
    "\n",
    "            # Ensure the directory for the token file exists\n",
    "            os.makedirs(os.path.dirname(token_path), exist_ok=True)\n",
    "\n",
    "            # Save the new credentials to the token file\n",
    "            with open(token_path, 'w') as token:\n",
    "                token.write(creds.to_json())\n",
    "\n",
    "        # Create the Google Calendar API service object using the credentials\n",
    "        service = build('calendar', 'v3', credentials=creds)\n",
    "        return service\n",
    "\n",
    "    except FileNotFoundError as e:\n",
    "        print(f\"Error: {e}\")\n",
    "        raise\n",
    "    except Exception as e:\n",
    "        print(f\"An unexpected error occurred: {e}\")\n",
    "        raise\n"
   ]
  },
  {
   "cell_type": "code",
   "execution_count": 5,
   "metadata": {},
   "outputs": [],
   "source": [
    "service = setup_calendar_service()"
   ]
  },
  {
   "cell_type": "markdown",
   "metadata": {},
   "source": [
    "# Global Dictinoary and Stack to store events\n"
   ]
  },
  {
   "cell_type": "code",
   "execution_count": 6,
   "metadata": {},
   "outputs": [],
   "source": [
    "# Global dictionary and stack for tracking events\n",
    "recent_keys_dic = {}  # Dictionary to store event keys and their corresponding event IDs\n",
    "recent_keys_stack = []    # Stack to track the order of event creation (most recent on top)\n"
   ]
  },
  {
   "cell_type": "markdown",
   "metadata": {},
   "source": [
    "# Create single event"
   ]
  },
  {
   "cell_type": "markdown",
   "metadata": {},
   "source": [
    "need to change `create_single_event()` function again because it will create duplicate events."
   ]
  },
  {
   "cell_type": "code",
   "execution_count": 32,
   "metadata": {},
   "outputs": [],
   "source": [
    "def create_single_event(\n",
    "    service,\n",
    "    calendar_id='primary',\n",
    "    title='title',\n",
    "    description='description',\n",
    "    event_date=None,\n",
    "    event_time=None,\n",
    "    end_date=None,\n",
    "    timezone='America/Toronto',\n",
    "    notifications=None,\n",
    "    invitees=None,\n",
    "):\n",
    "    \"\"\"\n",
    "    Create a single event in Google Calendar and track it in global data structures.\n",
    "    [docstring unchanged…]\n",
    "    \"\"\"\n",
    "    # Use today's date as default for event_date and end_date if not provided\n",
    "    event_date = event_date or datetime.date.today().strftime('%Y-%m-%d')\n",
    "    end_date   = end_date   or event_date\n",
    "\n",
    "    # Decide which reminders to use\n",
    "    if notifications is None:\n",
    "        if event_time:                 # timed (date‑time) events\n",
    "            overrides = [\n",
    "                {'method': 'email',  'minutes': 24 * 60},     # 1 day before (same clock time)\n",
    "                {'method': 'popup',  'minutes': 7  * 24 * 60},# 1 week before\n",
    "                {'method': 'popup',  'minutes': 2  * 60},     # 2 hours before\n",
    "                {'method': 'popup',  'minutes': 24 * 60},     # 1 day before\n",
    "                {'method': 'popup',  'minutes': 2  * 24 * 60} # 2 days before\n",
    "            ]\n",
    "        else:                           # all‑day events (start = 00:00)\n",
    "            #H9 = 9 * 60                 # 9 a.m. offset\n",
    "            overrides = [\n",
    "                {'method': 'popup',  'minutes': 7  * 24 * 60}, # 1 week before @ 00:00\n",
    "                {'method': 'email',  'minutes': 1  * 24 * 60}, # 1 day  before @ 00:00 (email)\n",
    "                {'method': 'popup',  'minutes': 1  * 24 * 60}, # 1 day  before @ 00:00\n",
    "                {'method': 'popup',  'minutes': 2  * 24 * 60},  # 2 days before @ 00:00\n",
    "                {'method': 'popup',  'minutes': 3  * 24 * 60},  # 3 days before @ 00:00\n",
    "            ]\n",
    "    else:\n",
    "        overrides = notifications\n",
    "\n",
    "\n",
    "    # Generate a unique key for the event using its parameters\n",
    "    key = '\\u00B6'.join([\n",
    "        '', title, description, event_date, event_time or '',\n",
    "        end_date, timezone, ''\n",
    "    ])\n",
    "\n",
    "    if key in recent_keys_dic:\n",
    "        return f\"Event with key {key} already exists. No new event created.\"\n",
    "\n",
    "    # Build the event object\n",
    "    event = {\n",
    "        'summary': title,\n",
    "        'description': description,\n",
    "        'start':  (\n",
    "            {'dateTime': f\"{event_date}T{event_time}\", 'timeZone': timezone}\n",
    "            if event_time else {'date': event_date}\n",
    "        ),\n",
    "        'end':    (\n",
    "            {'dateTime': f\"{end_date}T{event_time}\", 'timeZone': timezone}\n",
    "            if event_time else {'date': end_date}\n",
    "        ),\n",
    "        'reminders': {\n",
    "            'useDefault': False,\n",
    "            'overrides': overrides\n",
    "        },\n",
    "        'attendees': [{'email': e} for e in (invitees or [])]\n",
    "    }\n",
    "\n",
    "    created_event = service.events().insert(calendarId=calendar_id, body=event).execute()\n",
    "    recent_keys_dic[key] = key\n",
    "    recent_keys_stack.append(key)\n",
    "\n",
    "    return f\"Event created with ID: {key}\"\n"
   ]
  },
  {
   "cell_type": "markdown",
   "metadata": {},
   "source": [
    "## default - create single event"
   ]
  },
  {
   "cell_type": "code",
   "execution_count": 31,
   "metadata": {},
   "outputs": [
    {
     "data": {
      "text/plain": [
       "'Event created with ID: ¶all day8 event¶description¶2025-05-06¶¶2025-05-06¶America/Toronto¶'"
      ]
     },
     "execution_count": 31,
     "metadata": {},
     "output_type": "execute_result"
    }
   ],
   "source": [
    "create_single_event(service, title = 'all day8 event')"
   ]
  },
  {
   "cell_type": "markdown",
   "metadata": {},
   "source": [
    "## create all day event (custom calendar)"
   ]
  },
  {
   "cell_type": "code",
   "execution_count": 82,
   "metadata": {},
   "outputs": [
    {
     "data": {
      "text/plain": [
       "'Event created with ID: ¶All-Day Event¶An all-day meeting.¶2025-01-24¶None¶2025-01-24¶America/Toronto¶'"
      ]
     },
     "execution_count": 82,
     "metadata": {},
     "output_type": "execute_result"
    }
   ],
   "source": [
    "create_single_event(\n",
    "    service,\n",
    "    calendar_id='6e3c8cd9ec14a3048ad48d83a107d3b6af2a17d67f4ca61340b43f46fbf77016@group.calendar.google.com',\n",
    "    title='All-Day Event',\n",
    "    description='An all-day meeting.',\n",
    ")"
   ]
  },
  {
   "cell_type": "markdown",
   "metadata": {},
   "source": [
    "## create a time specific event (with invitees)"
   ]
  },
  {
   "cell_type": "code",
   "execution_count": 83,
   "metadata": {},
   "outputs": [
    {
     "ename": "HttpError",
     "evalue": "<HttpError 400 when requesting https://www.googleapis.com/calendar/v3/calendars/primary/events?alt=json returned \"Bad Request\". Details: \"[{'domain': 'global', 'reason': 'badRequest', 'message': 'Bad Request'}]\">",
     "output_type": "error",
     "traceback": [
      "\u001b[1;31m---------------------------------------------------------------------------\u001b[0m",
      "\u001b[1;31mHttpError\u001b[0m                                 Traceback (most recent call last)",
      "Cell \u001b[1;32mIn[83], line 1\u001b[0m\n\u001b[1;32m----> 1\u001b[0m \u001b[43mcreate_single_event\u001b[49m\u001b[43m(\u001b[49m\n\u001b[0;32m      2\u001b[0m \u001b[43m    \u001b[49m\u001b[43mservice\u001b[49m\u001b[43m,\u001b[49m\n\u001b[0;32m      3\u001b[0m \u001b[43m    \u001b[49m\u001b[43mtitle\u001b[49m\u001b[38;5;241;43m=\u001b[39;49m\u001b[38;5;124;43m'\u001b[39;49m\u001b[38;5;124;43mTeam Meeting\u001b[39;49m\u001b[38;5;124;43m'\u001b[39;49m\u001b[43m,\u001b[49m\n\u001b[0;32m      4\u001b[0m \u001b[43m    \u001b[49m\u001b[43mdescription\u001b[49m\u001b[38;5;241;43m=\u001b[39;49m\u001b[38;5;124;43m'\u001b[39;49m\u001b[38;5;124;43mDiscuss project progress.\u001b[39;49m\u001b[38;5;124;43m'\u001b[39;49m\u001b[43m,\u001b[49m\n\u001b[0;32m      5\u001b[0m \u001b[43m    \u001b[49m\u001b[43mevent_date\u001b[49m\u001b[38;5;241;43m=\u001b[39;49m\u001b[38;5;124;43m'\u001b[39;49m\u001b[38;5;124;43m2025-01-10\u001b[39;49m\u001b[38;5;124;43m'\u001b[39;49m\u001b[43m,\u001b[49m\n\u001b[0;32m      6\u001b[0m \u001b[43m    \u001b[49m\u001b[43mevent_time\u001b[49m\u001b[38;5;241;43m=\u001b[39;49m\u001b[38;5;124;43m'\u001b[39;49m\u001b[38;5;124;43m14:00\u001b[39;49m\u001b[38;5;124;43m'\u001b[39;49m\u001b[43m,\u001b[49m\n\u001b[0;32m      7\u001b[0m \u001b[43m    \u001b[49m\u001b[43mtimezone\u001b[49m\u001b[38;5;241;43m=\u001b[39;49m\u001b[38;5;124;43m'\u001b[39;49m\u001b[38;5;124;43mAmerica/Toronto\u001b[39;49m\u001b[38;5;124;43m'\u001b[39;49m\u001b[43m,\u001b[49m\n\u001b[0;32m      8\u001b[0m \u001b[43m    \u001b[49m\u001b[43mnotifications\u001b[49m\u001b[38;5;241;43m=\u001b[39;49m\u001b[43m[\u001b[49m\u001b[43m{\u001b[49m\u001b[38;5;124;43m'\u001b[39;49m\u001b[38;5;124;43mmethod\u001b[39;49m\u001b[38;5;124;43m'\u001b[39;49m\u001b[43m:\u001b[49m\u001b[43m \u001b[49m\u001b[38;5;124;43m'\u001b[39;49m\u001b[38;5;124;43memail\u001b[39;49m\u001b[38;5;124;43m'\u001b[39;49m\u001b[43m,\u001b[49m\u001b[43m \u001b[49m\u001b[38;5;124;43m'\u001b[39;49m\u001b[38;5;124;43mminutes\u001b[39;49m\u001b[38;5;124;43m'\u001b[39;49m\u001b[43m:\u001b[49m\u001b[43m \u001b[49m\u001b[38;5;241;43m30\u001b[39;49m\u001b[43m}\u001b[49m\u001b[43m,\u001b[49m\u001b[43m \u001b[49m\u001b[43m{\u001b[49m\u001b[38;5;124;43m'\u001b[39;49m\u001b[38;5;124;43mmethod\u001b[39;49m\u001b[38;5;124;43m'\u001b[39;49m\u001b[43m:\u001b[49m\u001b[43m \u001b[49m\u001b[38;5;124;43m'\u001b[39;49m\u001b[38;5;124;43mpopup\u001b[39;49m\u001b[38;5;124;43m'\u001b[39;49m\u001b[43m,\u001b[49m\u001b[43m \u001b[49m\u001b[38;5;124;43m'\u001b[39;49m\u001b[38;5;124;43mminutes\u001b[39;49m\u001b[38;5;124;43m'\u001b[39;49m\u001b[43m:\u001b[49m\u001b[43m \u001b[49m\u001b[38;5;241;43m10\u001b[39;49m\u001b[43m}\u001b[49m\u001b[43m]\u001b[49m\u001b[43m,\u001b[49m\n\u001b[0;32m      9\u001b[0m \u001b[43m    \u001b[49m\u001b[43minvitees\u001b[49m\u001b[38;5;241;43m=\u001b[39;49m\u001b[43m[\u001b[49m\u001b[38;5;124;43m'\u001b[39;49m\u001b[38;5;124;43mexample1@gmail.com\u001b[39;49m\u001b[38;5;124;43m'\u001b[39;49m\u001b[43m,\u001b[49m\u001b[43m \u001b[49m\u001b[38;5;124;43m'\u001b[39;49m\u001b[38;5;124;43mexample2@gmail.com\u001b[39;49m\u001b[38;5;124;43m'\u001b[39;49m\u001b[43m]\u001b[49m\u001b[43m,\u001b[49m\n\u001b[0;32m     10\u001b[0m \u001b[43m)\u001b[49m\n",
      "Cell \u001b[1;32mIn[80], line 73\u001b[0m, in \u001b[0;36mcreate_single_event\u001b[1;34m(service, calendar_id, title, description, event_date, event_time, end_date, timezone, notifications, invitees)\u001b[0m\n\u001b[0;32m     60\u001b[0m event \u001b[38;5;241m=\u001b[39m {\n\u001b[0;32m     61\u001b[0m     \u001b[38;5;124m'\u001b[39m\u001b[38;5;124msummary\u001b[39m\u001b[38;5;124m'\u001b[39m: title,\n\u001b[0;32m     62\u001b[0m     \u001b[38;5;124m'\u001b[39m\u001b[38;5;124mdescription\u001b[39m\u001b[38;5;124m'\u001b[39m: description,\n\u001b[1;32m   (...)\u001b[0m\n\u001b[0;32m     69\u001b[0m     \u001b[38;5;124m'\u001b[39m\u001b[38;5;124mattendees\u001b[39m\u001b[38;5;124m'\u001b[39m: [{\u001b[38;5;124m'\u001b[39m\u001b[38;5;124memail\u001b[39m\u001b[38;5;124m'\u001b[39m: email} \u001b[38;5;28;01mfor\u001b[39;00m email \u001b[38;5;129;01min\u001b[39;00m invitees] \u001b[38;5;28;01mif\u001b[39;00m invitees \u001b[38;5;28;01melse\u001b[39;00m []\n\u001b[0;32m     70\u001b[0m }\n\u001b[0;32m     72\u001b[0m \u001b[38;5;66;03m# Create the event in Google Calendar\u001b[39;00m\n\u001b[1;32m---> 73\u001b[0m created_event \u001b[38;5;241m=\u001b[39m \u001b[43mservice\u001b[49m\u001b[38;5;241;43m.\u001b[39;49m\u001b[43mevents\u001b[49m\u001b[43m(\u001b[49m\u001b[43m)\u001b[49m\u001b[38;5;241;43m.\u001b[39;49m\u001b[43minsert\u001b[49m\u001b[43m(\u001b[49m\u001b[43mcalendarId\u001b[49m\u001b[38;5;241;43m=\u001b[39;49m\u001b[43mcalendar_id\u001b[49m\u001b[43m,\u001b[49m\u001b[43m \u001b[49m\u001b[43mbody\u001b[49m\u001b[38;5;241;43m=\u001b[39;49m\u001b[43mevent\u001b[49m\u001b[43m)\u001b[49m\u001b[38;5;241;43m.\u001b[39;49m\u001b[43mexecute\u001b[49m\u001b[43m(\u001b[49m\u001b[43m)\u001b[49m\n\u001b[0;32m     75\u001b[0m \u001b[38;5;66;03m# Add the created event to the global dictionary and stack\u001b[39;00m\n\u001b[0;32m     76\u001b[0m events_listed[key] \u001b[38;5;241m=\u001b[39m created_event[\u001b[38;5;124m'\u001b[39m\u001b[38;5;124mid\u001b[39m\u001b[38;5;124m'\u001b[39m]  \u001b[38;5;66;03m# Map the unique key to the event ID\u001b[39;00m\n",
      "File \u001b[1;32mc:\\Users\\paulp\\Downloads\\Automated Calendar Update\\myenv\\Lib\\site-packages\\googleapiclient\\_helpers.py:130\u001b[0m, in \u001b[0;36mpositional.<locals>.positional_decorator.<locals>.positional_wrapper\u001b[1;34m(*args, **kwargs)\u001b[0m\n\u001b[0;32m    128\u001b[0m     \u001b[38;5;28;01melif\u001b[39;00m positional_parameters_enforcement \u001b[38;5;241m==\u001b[39m POSITIONAL_WARNING:\n\u001b[0;32m    129\u001b[0m         logger\u001b[38;5;241m.\u001b[39mwarning(message)\n\u001b[1;32m--> 130\u001b[0m \u001b[38;5;28;01mreturn\u001b[39;00m \u001b[43mwrapped\u001b[49m\u001b[43m(\u001b[49m\u001b[38;5;241;43m*\u001b[39;49m\u001b[43margs\u001b[49m\u001b[43m,\u001b[49m\u001b[43m \u001b[49m\u001b[38;5;241;43m*\u001b[39;49m\u001b[38;5;241;43m*\u001b[39;49m\u001b[43mkwargs\u001b[49m\u001b[43m)\u001b[49m\n",
      "File \u001b[1;32mc:\\Users\\paulp\\Downloads\\Automated Calendar Update\\myenv\\Lib\\site-packages\\googleapiclient\\http.py:938\u001b[0m, in \u001b[0;36mHttpRequest.execute\u001b[1;34m(self, http, num_retries)\u001b[0m\n\u001b[0;32m    936\u001b[0m     callback(resp)\n\u001b[0;32m    937\u001b[0m \u001b[38;5;28;01mif\u001b[39;00m resp\u001b[38;5;241m.\u001b[39mstatus \u001b[38;5;241m>\u001b[39m\u001b[38;5;241m=\u001b[39m \u001b[38;5;241m300\u001b[39m:\n\u001b[1;32m--> 938\u001b[0m     \u001b[38;5;28;01mraise\u001b[39;00m HttpError(resp, content, uri\u001b[38;5;241m=\u001b[39m\u001b[38;5;28mself\u001b[39m\u001b[38;5;241m.\u001b[39muri)\n\u001b[0;32m    939\u001b[0m \u001b[38;5;28;01mreturn\u001b[39;00m \u001b[38;5;28mself\u001b[39m\u001b[38;5;241m.\u001b[39mpostproc(resp, content)\n",
      "\u001b[1;31mHttpError\u001b[0m: <HttpError 400 when requesting https://www.googleapis.com/calendar/v3/calendars/primary/events?alt=json returned \"Bad Request\". Details: \"[{'domain': 'global', 'reason': 'badRequest', 'message': 'Bad Request'}]\">"
     ]
    }
   ],
   "source": [
    "create_single_event(\n",
    "    service,\n",
    "    title='Team Meeting',\n",
    "    description='Discuss project progress.',\n",
    "    event_date='2025-01-10',\n",
    "    event_time='14:00',\n",
    "    timezone='America/Toronto',\n",
    "    notifications=[{'method': 'email', 'minutes': 30}, {'method': 'popup', 'minutes': 10}],\n",
    "    invitees=['example1@gmail.com', 'example2@gmail.com'],\n",
    ")\n"
   ]
  },
  {
   "cell_type": "markdown",
   "metadata": {},
   "source": [
    "## Create a task (single due date)"
   ]
  },
  {
   "cell_type": "code",
   "execution_count": 9,
   "metadata": {},
   "outputs": [
    {
     "data": {
      "text/plain": [
       "'Event created with ID: ¶Submit Report¶Final deadline for report submission.¶2025-05-06¶None¶2025-05-06¶America/Toronto¶'"
      ]
     },
     "execution_count": 9,
     "metadata": {},
     "output_type": "execute_result"
    }
   ],
   "source": [
    "create_single_event(\n",
    "    service,\n",
    "    title='Submit Report',\n",
    "    description='Final deadline for report submission.',\n",
    "    event_date='2025-05-06',  # Due date\n",
    "    event_time=None,  # No time for tasks\n",
    "    end_date='2025-05-06',  # Same as start\n",
    ")"
   ]
  },
  {
   "cell_type": "markdown",
   "metadata": {},
   "source": [
    "# Which email"
   ]
  },
  {
   "cell_type": "code",
   "execution_count": 10,
   "metadata": {},
   "outputs": [],
   "source": [
    "def get_authenticated_email(service):\n",
    "    \"\"\"\n",
    "    Prints and returns the email address of the authenticated user.\n",
    "    \"\"\"\n",
    "    try:\n",
    "        calendar_list = service.calendarList().list().execute()\n",
    "        primary_calendar = next(\n",
    "            calendar for calendar in calendar_list['items'] if calendar.get('primary', False)\n",
    "        )\n",
    "        print(f\"Authenticated email: {primary_calendar['id']}\")\n",
    "        return primary_calendar['id']\n",
    "    except Exception as e:\n",
    "        print(f\"Error fetching authenticated email: {e}\")\n",
    "\n"
   ]
  },
  {
   "cell_type": "code",
   "execution_count": 11,
   "metadata": {},
   "outputs": [
    {
     "name": "stdout",
     "output_type": "stream",
     "text": [
      "Authenticated email: 03paulpark@gmail.com\n"
     ]
    },
    {
     "data": {
      "text/plain": [
       "'03paulpark@gmail.com'"
      ]
     },
     "execution_count": 11,
     "metadata": {},
     "output_type": "execute_result"
    }
   ],
   "source": [
    "\n",
    "# Example usage:\n",
    "get_authenticated_email(service)"
   ]
  },
  {
   "cell_type": "markdown",
   "metadata": {},
   "source": [
    "# Delete new event"
   ]
  },
  {
   "cell_type": "code",
   "execution_count": 12,
   "metadata": {},
   "outputs": [],
   "source": [
    "def delete_event_by_key(service, calendar_id='primary', key=None):\n",
    "    \"\"\"\n",
    "    Deletes an event from Google Calendar using its key. If no key is provided, the most recently created event is deleted.\n",
    "    The event is removed from both Google Calendar and local tracking structures.\n",
    "\n",
    "    Args:\n",
    "        service (googleapiclient.discovery.Resource): The Google Calendar API service object.\n",
    "        calendar_id (str): The ID of the calendar. Defaults to 'primary'.\n",
    "        key (str, optional): The unique key of the event to delete. Defaults to the most recent key.\n",
    "\n",
    "    Returns:\n",
    "        str: A message indicating success or failure.\n",
    "    \"\"\"\n",
    "    global recent_keys_stack, recent_keys_dic\n",
    "\n",
    "    try:\n",
    "        # Determine the key to delete\n",
    "        if key is None:\n",
    "            if not recent_keys_stack:\n",
    "                return \"No events to delete.\"\n",
    "            key = recent_keys_stack.pop()  # Use the most recent key from the stack\n",
    "\n",
    "        # Debugging: Print the key being deleted\n",
    "        print(f\"Key to Delete: {key}\")\n",
    "\n",
    "        # Look up the eventId using the key\n",
    "        if key in recent_keys_dic:\n",
    "            event_id = recent_keys_dic[key]  # Get the event ID for the key\n",
    "\n",
    "            try:\n",
    "                # Delete the event from Google Calendar using eventId\n",
    "                service.events().delete(calendarId=calendar_id, eventId=event_id).execute()\n",
    "                print(f\"Event with ID {event_id} deleted from Google Calendar.\")\n",
    "\n",
    "                # Remove the key from the dictionary\n",
    "                del recent_keys_dic[key]\n",
    "                print(f\"Key {key} removed from recent_keys_dic.\")\n",
    "                return f\"Deleted event with ID: {event_id} (key: {key})\"\n",
    "\n",
    "            except Exception as api_error:\n",
    "                # Handle API-specific errors\n",
    "                return f\"Error deleting event from Google Calendar: {api_error}\"\n",
    "\n",
    "        else:\n",
    "            return f\"No event found with the specified key: {key}\"\n",
    "\n",
    "    except KeyError:\n",
    "        return f\"KeyError: Missing event data for key: {key}. Stack or dictionary may be out of sync.\"\n",
    "    except Exception as e:\n",
    "        return f\"Unexpected error occurred: {e}\"\n"
   ]
  },
  {
   "cell_type": "code",
   "execution_count": 13,
   "metadata": {},
   "outputs": [
    {
     "data": {
      "text/plain": [
       "{'¶all day event¶description¶2025-05-06¶None¶2025-05-06¶America/Toronto¶': '¶all day event¶description¶2025-05-06¶None¶2025-05-06¶America/Toronto¶',\n",
       " '¶Submit Report¶Final deadline for report submission.¶2025-05-06¶None¶2025-05-06¶America/Toronto¶': '¶Submit Report¶Final deadline for report submission.¶2025-05-06¶None¶2025-05-06¶America/Toronto¶'}"
      ]
     },
     "execution_count": 13,
     "metadata": {},
     "output_type": "execute_result"
    }
   ],
   "source": [
    "# stack\n",
    "recent_keys_dic"
   ]
  },
  {
   "cell_type": "code",
   "execution_count": 14,
   "metadata": {},
   "outputs": [
    {
     "data": {
      "text/plain": [
       "['¶all day event¶description¶2025-05-06¶None¶2025-05-06¶America/Toronto¶',\n",
       " '¶Submit Report¶Final deadline for report submission.¶2025-05-06¶None¶2025-05-06¶America/Toronto¶']"
      ]
     },
     "execution_count": 14,
     "metadata": {},
     "output_type": "execute_result"
    }
   ],
   "source": [
    "# dictionary\n",
    "recent_keys_stack"
   ]
  },
  {
   "cell_type": "code",
   "execution_count": 255,
   "metadata": {},
   "outputs": [
    {
     "data": {
      "text/plain": [
       "'Event created with ID: ¶title¶description¶2025-01-24¶None¶2025-01-24¶America/Toronto¶'"
      ]
     },
     "execution_count": 255,
     "metadata": {},
     "output_type": "execute_result"
    }
   ],
   "source": [
    "create_single_event(service)"
   ]
  },
  {
   "cell_type": "code",
   "execution_count": 186,
   "metadata": {},
   "outputs": [
    {
     "data": {
      "text/plain": [
       "<googleapiclient.discovery.Resource at 0x1f3ab424920>"
      ]
     },
     "execution_count": 186,
     "metadata": {},
     "output_type": "execute_result"
    }
   ],
   "source": [
    "service"
   ]
  },
  {
   "cell_type": "code",
   "execution_count": 248,
   "metadata": {},
   "outputs": [
    {
     "data": {
      "text/plain": [
       "'Event created with ID: ¶title¶description¶2025-01-24¶None¶2025-01-24¶America/Toronto¶'"
      ]
     },
     "execution_count": 248,
     "metadata": {},
     "output_type": "execute_result"
    }
   ],
   "source": [
    "calendar_id = '6e3c8cd9ec14a3048ad48d83a107d3b6af2a17d67f4ca61340b43f46fbf77016@group.calendar.google.com'  # found using your specific calendar and integrate settings\n",
    "create_single_event(\n",
    "    service=service,\n",
    "    calendar_id=calendar_id,\n",
    "    #title='Meeting',\n",
    "    #description='Discuss project',\n",
    "    #event_date='2025-01-25',\n",
    "    #event_time='14:00',\n",
    "    #timezone='America/Toronto',\n",
    "    #notifications=[{'method':'email', 'minutes':5}],\n",
    "    #invitees= []\n",
    ")\n",
    "\n"
   ]
  },
  {
   "cell_type": "code",
   "execution_count": 239,
   "metadata": {},
   "outputs": [
    {
     "data": {
      "text/plain": [
       "'Event created with ID: ¶all dayu event¶description¶2025-01-24¶None¶2025-01-24¶America/Toronto¶'"
      ]
     },
     "execution_count": 239,
     "metadata": {},
     "output_type": "execute_result"
    }
   ],
   "source": [
    "create_single_event(service, title = 'all dayu event')"
   ]
  },
  {
   "cell_type": "code",
   "execution_count": 256,
   "metadata": {},
   "outputs": [
    {
     "name": "stdout",
     "output_type": "stream",
     "text": [
      "Key to Delete: ¶title¶description¶2025-01-24¶None¶2025-01-24¶America/Toronto¶\n"
     ]
    },
    {
     "data": {
      "text/plain": [
       "'Error deleting event from Google Calendar: <HttpError 404 when requesting https://www.googleapis.com/calendar/v3/calendars/primary/events/%C2%B6title%C2%B6description%C2%B62025-01-24%C2%B6None%C2%B62025-01-24%C2%B6America%2FToronto%C2%B6? returned \"Not Found\". Details: \"[{\\'domain\\': \\'global\\', \\'reason\\': \\'notFound\\', \\'message\\': \\'Not Found\\'}]\">'"
      ]
     },
     "execution_count": 256,
     "metadata": {},
     "output_type": "execute_result"
    }
   ],
   "source": [
    "delete_event_by_key(service)"
   ]
  },
  {
   "cell_type": "code",
   "execution_count": 18,
   "metadata": {},
   "outputs": [
    {
     "ename": "HttpError",
     "evalue": "<HttpError 410 when requesting https://www.googleapis.com/calendar/v3/calendars/primary/events/2a880sh87pc2p16kh1kgte61j0? returned \"Resource has been deleted\". Details: \"[{'domain': 'global', 'reason': 'deleted', 'message': 'Resource has been deleted'}]\">",
     "output_type": "error",
     "traceback": [
      "\u001b[1;31m---------------------------------------------------------------------------\u001b[0m",
      "\u001b[1;31mHttpError\u001b[0m                                 Traceback (most recent call last)",
      "Cell \u001b[1;32mIn[18], line 1\u001b[0m\n\u001b[1;32m----> 1\u001b[0m delete_result \u001b[38;5;241m=\u001b[39m \u001b[43mdelete_event_by_key\u001b[49m\u001b[43m(\u001b[49m\u001b[43mservice\u001b[49m\u001b[43m,\u001b[49m\u001b[43m \u001b[49m\u001b[43mkey\u001b[49m\u001b[38;5;241;43m=\u001b[39;49m\u001b[38;5;124;43m\"\u001b[39;49m\u001b[38;5;124;43mall dayu event¶description¶2025-01-23¶None¶2025-01-23¶America/Toronto\u001b[39;49m\u001b[38;5;124;43m\"\u001b[39;49m\u001b[43m)\u001b[49m\n\u001b[0;32m      2\u001b[0m \u001b[38;5;28mprint\u001b[39m(delete_result)\n",
      "Cell \u001b[1;32mIn[15], line 4\u001b[0m, in \u001b[0;36mdelete_event_by_key\u001b[1;34m(service, calendar_id, key)\u001b[0m\n\u001b[0;32m      2\u001b[0m \u001b[38;5;28;01mif\u001b[39;00m key \u001b[38;5;129;01min\u001b[39;00m events_listed:\n\u001b[0;32m      3\u001b[0m     event_id \u001b[38;5;241m=\u001b[39m events_listed[key]\n\u001b[1;32m----> 4\u001b[0m     \u001b[43mservice\u001b[49m\u001b[38;5;241;43m.\u001b[39;49m\u001b[43mevents\u001b[49m\u001b[43m(\u001b[49m\u001b[43m)\u001b[49m\u001b[38;5;241;43m.\u001b[39;49m\u001b[43mdelete\u001b[49m\u001b[43m(\u001b[49m\u001b[43mcalendarId\u001b[49m\u001b[38;5;241;43m=\u001b[39;49m\u001b[43mcalendar_id\u001b[49m\u001b[43m,\u001b[49m\u001b[43m \u001b[49m\u001b[43meventId\u001b[49m\u001b[38;5;241;43m=\u001b[39;49m\u001b[43mevent_id\u001b[49m\u001b[43m)\u001b[49m\u001b[38;5;241;43m.\u001b[39;49m\u001b[43mexecute\u001b[49m\u001b[43m(\u001b[49m\u001b[43m)\u001b[49m\n\u001b[0;32m      5\u001b[0m     \u001b[38;5;28;01mdel\u001b[39;00m events_listed[key]  \u001b[38;5;66;03m# Remove the key from the dictionary after deletion\u001b[39;00m\n\u001b[0;32m      6\u001b[0m     \u001b[38;5;28;01mreturn\u001b[39;00m \u001b[38;5;124mf\u001b[39m\u001b[38;5;124m\"\u001b[39m\u001b[38;5;124mDeleted event with ID: \u001b[39m\u001b[38;5;132;01m{\u001b[39;00mevent_id\u001b[38;5;132;01m}\u001b[39;00m\u001b[38;5;124m\"\u001b[39m\n",
      "File \u001b[1;32mc:\\Users\\paulp\\Downloads\\Automated Calendar Update\\myenv\\Lib\\site-packages\\googleapiclient\\_helpers.py:130\u001b[0m, in \u001b[0;36mpositional.<locals>.positional_decorator.<locals>.positional_wrapper\u001b[1;34m(*args, **kwargs)\u001b[0m\n\u001b[0;32m    128\u001b[0m     \u001b[38;5;28;01melif\u001b[39;00m positional_parameters_enforcement \u001b[38;5;241m==\u001b[39m POSITIONAL_WARNING:\n\u001b[0;32m    129\u001b[0m         logger\u001b[38;5;241m.\u001b[39mwarning(message)\n\u001b[1;32m--> 130\u001b[0m \u001b[38;5;28;01mreturn\u001b[39;00m \u001b[43mwrapped\u001b[49m\u001b[43m(\u001b[49m\u001b[38;5;241;43m*\u001b[39;49m\u001b[43margs\u001b[49m\u001b[43m,\u001b[49m\u001b[43m \u001b[49m\u001b[38;5;241;43m*\u001b[39;49m\u001b[38;5;241;43m*\u001b[39;49m\u001b[43mkwargs\u001b[49m\u001b[43m)\u001b[49m\n",
      "File \u001b[1;32mc:\\Users\\paulp\\Downloads\\Automated Calendar Update\\myenv\\Lib\\site-packages\\googleapiclient\\http.py:938\u001b[0m, in \u001b[0;36mHttpRequest.execute\u001b[1;34m(self, http, num_retries)\u001b[0m\n\u001b[0;32m    936\u001b[0m     callback(resp)\n\u001b[0;32m    937\u001b[0m \u001b[38;5;28;01mif\u001b[39;00m resp\u001b[38;5;241m.\u001b[39mstatus \u001b[38;5;241m>\u001b[39m\u001b[38;5;241m=\u001b[39m \u001b[38;5;241m300\u001b[39m:\n\u001b[1;32m--> 938\u001b[0m     \u001b[38;5;28;01mraise\u001b[39;00m HttpError(resp, content, uri\u001b[38;5;241m=\u001b[39m\u001b[38;5;28mself\u001b[39m\u001b[38;5;241m.\u001b[39muri)\n\u001b[0;32m    939\u001b[0m \u001b[38;5;28;01mreturn\u001b[39;00m \u001b[38;5;28mself\u001b[39m\u001b[38;5;241m.\u001b[39mpostproc(resp, content)\n",
      "\u001b[1;31mHttpError\u001b[0m: <HttpError 410 when requesting https://www.googleapis.com/calendar/v3/calendars/primary/events/2a880sh87pc2p16kh1kgte61j0? returned \"Resource has been deleted\". Details: \"[{'domain': 'global', 'reason': 'deleted', 'message': 'Resource has been deleted'}]\">"
     ]
    }
   ],
   "source": [
    "delete_result = delete_event_by_key(service, key=\"all dayu event¶description¶2025-01-23¶None¶2025-01-23¶America/Toronto\")\n",
    "print(delete_result)\n"
   ]
  },
  {
   "cell_type": "markdown",
   "metadata": {},
   "source": [
    "# Handling events (create or delete)"
   ]
  },
  {
   "cell_type": "code",
   "execution_count": 15,
   "metadata": {},
   "outputs": [],
   "source": [
    "def handle_events(service, calendar_id, events_df, operation, **kwargs):\n",
    "    \"\"\"\n",
    "    Handles creating or deleting events based on the operation specified ('create' or 'delete').\n",
    "\n",
    "    Args:\n",
    "    service (Resource): The Google Calendar service object.\n",
    "    calendar_id (str): The ID of the calendar where operations will be performed.\n",
    "    events_df (pd.DataFrame): DataFrame containing event details.\n",
    "    operation (str): Operation to perform - 'create' or 'delete'.\n",
    "    **kwargs: Additional keyword arguments to pass to the event creation or deletion function.\n",
    "\n",
    "    Returns:\n",
    "    None\n",
    "    \"\"\"\n",
    "    for _, row in events_df.iterrows():\n",
    "        title = row['title']  # Corrected from 'Activity Description' to 'title'\n",
    "        description = row.get('description', '')  # Ensure this matches your DataFrame column names\n",
    "        event_date = row.get('event_date', None)  # Ensure this matches your DataFrame column names\n",
    "\n",
    "        if operation == 'create':\n",
    "            result = create_single_event(service, calendar_id=calendar_id, title=title,\n",
    "                                         description=description, event_date=event_date, **kwargs)\n",
    "            print(f\"Event created: {result}\")\n"
   ]
  },
  {
   "cell_type": "code",
   "execution_count": 47,
   "metadata": {},
   "outputs": [
    {
     "name": "stdout",
     "output_type": "stream",
     "text": [
      "                                     title  event_date  \\\n",
      "0             Textbook Reading : Chapter 1  2025-05-09   \n",
      "1        Case Study Assignment 1 Available  2025-05-23   \n",
      "2              Case Study Assignment 1 Due  2025-06-06   \n",
      "3  Midterm Take‑home Examination Available  2025-06-18   \n",
      "4        Midterm Take‑home Examination Due  2025-06-25   \n",
      "\n",
      "                                         description  \n",
      "0  Week 1,\\nDue Date = Friday, May 09, 2025: 11:5...  \n",
      "1  Week 3,\\nAvailable = Friday, May 23, 2025: 12:...  \n",
      "2  Week 5,\\nDue Date = Friday, June 06, 2025: 11:...  \n",
      "3  Week 7,\\nAvailable = Wednesday, June 18, 2025:...  \n",
      "4  Week 8,\\nDue Date = Wednesday, June 25, 2025: ...  \n"
     ]
    }
   ],
   "source": [
    "import pandas as pd\n",
    "\n",
    "# ------------------------  French course schedule  ------------------------ #\n",
    "french_data = {\n",
    "    \"title\": [\n",
    "        # BEGIN entries  ▾\n",
    "        \"begin Test #1 : Chapitre 5\",\n",
    "        \"begin Peer‑Review Teams Populated\",\n",
    "        \"begin Test #2 : Chapitre 6\",\n",
    "        \"begin Test #3 : Chapitre 7\",\n",
    "        \"begin Test #4 : Chapitre 8\",\n",
    "        \"begin Test #5 : Chapitre 9\",\n",
    "        \"begin Final Test\",\n",
    "        # DUE / milestone entries ▾\n",
    "        \"Student Acknowledgement\",\n",
    "        \"Test #1 : Chapitre 5\",\n",
    "        \"Peer‑Review Teams Populated\",\n",
    "        \"Written Assignment : Part A (Draft)\",\n",
    "        \"Test #2 : Chapitre 6\",\n",
    "        \"Written Assignment : Part B (Peer Review)\",\n",
    "        \"Written Assignment : Part C (Final Draft)\",\n",
    "        \"Test #3 : Chapitre 7\",\n",
    "        \"Test #4 : Chapitre 8\",\n",
    "        \"Oral Assignment (Chapitre 8)\",\n",
    "        \"Test #5 : Chapitre 9\",\n",
    "        \"Final Test\"\n",
    "    ],\n",
    "    \"event_date\": [\n",
    "        \"2025-05-20\",  # begin Test #1 (Tue)\n",
    "        \"2025-05-20\",  # begin Peer‑Review Teams (Tue)\n",
    "        \"2025-06-02\",  # begin Test #2  (Mon)\n",
    "        \"2025-06-16\",  # begin Test #3  (Mon)\n",
    "        \"2025-07-02\",  # begin Test #4  (Wed)\n",
    "        \"2025-07-14\",  # begin Test #5  (Mon)\n",
    "        \"2025-07-21\",  # begin Final Test (Mon)\n",
    "        # due / milestone dates ▾\n",
    "        \"2025-05-12\",  # Student Acknowledgement (Mon)\n",
    "        \"2025-05-23\",  # Test #1 due (Fri)\n",
    "        \"2025-05-20\",  # Teams populated (Tue, 16:30)\n",
    "        \"2025-05-30\",  # Written A draft due (Fri)\n",
    "        \"2025-06-05\",  # Test #2 due (Thu)\n",
    "        \"2025-06-06\",  # Written B peer‑review due (Fri)\n",
    "        \"2025-06-13\",  # Written C final draft due (Fri)\n",
    "        \"2025-06-19\",  # Test #3 due (Thu)\n",
    "        \"2025-07-05\",  # Test #4 due (Sat)\n",
    "        \"2025-07-11\",  # Oral assignment due (Fri)\n",
    "        \"2025-07-17\",  # Test #5 due (Thu)\n",
    "        \"2025-07-24\"   # Final Test due (Thu)\n",
    "    ],\n",
    "    \"description\": [\n",
    "        \"Week 3,\\nBegin = Tuesday, May 20, 2025: 11:55 PM\",\n",
    "        \"Week 3,\\nBegin = Tuesday, May 20, 2025: 4:30 PM\",\n",
    "        \"Week 5,\\nBegin = Monday, June 02, 2025: 11:55 PM\",\n",
    "        \"Week 7,\\nBegin = Monday, June 16, 2025: 11:55 PM\",\n",
    "        \"Week 9,\\nBegin = Wednesday, July 02, 2025: 11:55 PM\",\n",
    "        \"Week 11,\\nBegin = Monday, July 14, 2025: 11:55 PM\",\n",
    "        \"Week 12,\\nBegin = Monday, July 21, 2025: 11:55 PM\",\n",
    "        # due / milestone descriptions ▾\n",
    "        \"Week 2,\\nDue Date = Monday, May 12, 2025: 11:55 PM\",\n",
    "        \"Week 3,\\nDue Date = Friday, May 23, 2025: 11:55 PM (Test #1)\",\n",
    "        \"Week 3,\\nDue Date = Tuesday, May 20, 2025: 4:30 PM (Teams populated)\",\n",
    "        \"Week 4,\\nDue Date = Friday, May 30, 2025: 11:55 PM\",\n",
    "        \"Week 5,\\nDue Date = Thursday, June 05, 2025: 11:55 PM (Test #2)\",\n",
    "        \"Week 5,\\nDue Date = Friday, June 06, 2025: 11:55 PM\",\n",
    "        \"Week 6,\\nDue Date = Friday, June 13, 2025: 11:55 PM\",\n",
    "        \"Week 7,\\nDue Date = Thursday, June 19, 2025: 11:55 PM (Test #3)\",\n",
    "        \"Week 9,\\nDue Date = Saturday, July 05, 2025: 11:55 PM (Test #4)\",\n",
    "        \"Week 10,\\nDue Date = Friday, July 11, 2025: 11:55 PM\",\n",
    "        \"Week 11,\\nDue Date = Thursday, July 17, 2025: 11:55 PM (Test #5)\",\n",
    "        \"Week 12,\\nDue Date = Thursday, July 24, 2025: 11:55 PM (Final Test)\"\n",
    "    ]\n",
    "}\n",
    "# Convert to DataFrame\n",
    "french_due_dates_df = pd.DataFrame(french_data)\n",
    "\n",
    "\n",
    "# ------------------------  PHIL 145 course schedule  ------------------------ #\n",
    "phil145_data = {\n",
    "    \"title\": [\n",
    "        \"Introduce Yourself\",\n",
    "        \"Assignment 1 Available\",\n",
    "        \"Assignment 1 Due\",\n",
    "        \"Assignment 2 Available\",\n",
    "        \"Assignment 2 Due\",\n",
    "        \"Assignment 3 Available\",\n",
    "        \"Assignment 3 Due\",\n",
    "        \"Assignment 4 Available\",\n",
    "        \"Assignment 4 Due\",\n",
    "        \"Final Exam Available\",\n",
    "        \"Final Exam Due\"\n",
    "    ],\n",
    "    \"event_date\": [\n",
    "        \"2025-05-16\",  # Fri\n",
    "        \"2025-05-14\",  # Wed\n",
    "        \"2025-05-28\",  # Wed\n",
    "        \"2025-06-04\",  # Wed\n",
    "        \"2025-06-18\",  # Wed\n",
    "        \"2025-06-25\",  # Wed\n",
    "        \"2025-07-09\",  # Wed\n",
    "        \"2025-07-11\",  # Fri\n",
    "        \"2025-07-25\",  # Fri\n",
    "        \"2025-07-28\",  # Mon\n",
    "        \"2025-08-11\"   # Mon\n",
    "    ],\n",
    "    \"description\": [\n",
    "        \"Week 1,\\nDue Date = Friday, May 16, 2025: 11:55 PM (Ungraded)\",\n",
    "        \"Week 2,\\nAvailable = Wednesday, May 14, 2025\",\n",
    "        \"Week 4,\\nDue Date = Wednesday, May 28, 2025: 11:59 PM (17.5 %)\",\n",
    "        \"Week 5,\\nAvailable = Wednesday, June 04, 2025\",\n",
    "        \"Week 7,\\nDue Date = Wednesday, June 18, 2025: 11:59 PM (17.5 %)\",\n",
    "        \"Week 8,\\nAvailable = Wednesday, June 25, 2025\",\n",
    "        \"Week 10,\\nDue Date = Wednesday, July 09, 2025: 11:59 PM (17.5 %)\",\n",
    "        \"Week 10,\\nAvailable = Friday, July 11, 2025\",\n",
    "        \"Week 12,\\nDue Date = Friday, July 25, 2025: 11:59 PM (17.5 %)\",\n",
    "        \"Final Exam,\\nAvailable = Monday, July 28, 2025: 12:05 AM\",\n",
    "        \"Final Exam,\\nDue Date = Monday, August 11, 2025: 11:59 PM (30 %)\"\n",
    "    ]\n",
    "}\n",
    "\n",
    "# Convert to DataFrame\n",
    "\n",
    "phil145_df = pd.DataFrame(phil145_data)\n",
    "\n",
    "# ------------------------  Business‑Ethics schedule  ------------------------ #\n",
    "phil215_data = {\n",
    "    \"title\": [\n",
    "        \"Textbook Reading : Chapter 1\",\n",
    "        \"Case Study Assignment 1 Available\",\n",
    "        \"Case Study Assignment 1 Due\",\n",
    "        \"Midterm Take‑home Examination Available\",\n",
    "        \"Midterm Take‑home Examination Due\",\n",
    "        \"Case Study Assignment 2 Available\",\n",
    "        \"Case Study Assignment 2 Due\",\n",
    "        \"Final Examination Available\",\n",
    "        \"Final Examination Due\"\n",
    "    ],\n",
    "    \"event_date\": [\n",
    "        \"2025-05-09\",  # Fri\n",
    "        \"2025-05-23\",  # Fri\n",
    "        \"2025-06-06\",  # Fri\n",
    "        \"2025-06-18\",  # Wed\n",
    "        \"2025-06-25\",  # Wed\n",
    "        \"2025-07-02\",  # Wed\n",
    "        \"2025-07-23\",  # Wed\n",
    "        \"2025-07-28\",  # Mon\n",
    "        \"2025-08-11\"   # Mon\n",
    "    ],\n",
    "    \"description\": [\n",
    "        \"Week 1,\\nDue Date = Friday, May 09, 2025: 11:55 PM\",\n",
    "        \"Week 3,\\nAvailable = Friday, May 23, 2025: 12:05 AM\",\n",
    "        \"Week 5,\\nDue Date = Friday, June 06, 2025: 11:55 PM (15 %)\",\n",
    "        \"Week 7,\\nAvailable = Wednesday, June 18, 2025: 12:05 AM\",\n",
    "        \"Week 8,\\nDue Date = Wednesday, June 25, 2025: 11:55 PM (25 %)\",\n",
    "        \"Week 9,\\nAvailable = Wednesday, July 02, 2025: 12:05 AM\",\n",
    "        \"Week 12,\\nDue Date = Wednesday, July 23, 2025: 11:55 PM (30 %)\",\n",
    "        \"Final Exam,\\nAvailable = Monday, July 28, 2025: 12:05 AM\",\n",
    "        \"Final Exam,\\nDue Date = Monday, August 11, 2025: 11:55 PM (30 %)\"\n",
    "    ]\n",
    "}\n",
    "\n",
    "# Convert to DataFrame\n",
    "phil215_df = pd.DataFrame(phil215_data)\n",
    "\n",
    "# Optional preview\n",
    "print(phil215_df.head())"
   ]
  },
  {
   "cell_type": "code",
   "execution_count": null,
   "metadata": {},
   "outputs": [],
   "source": [
    "## Calendar IDs\n",
    "french = '2806f05d02c1bbdf138214309fef8f6c1066b1aa071308257a51ca49eedd2497@group.calendar.google.com'\n",
    "phil145 = 'a8bdd0dc0a5fa4bf1b1ab1119d0fe386fad68b2d2828f887ad7863780b344e88@group.calendar.google.com'\n",
    "phil215 = '0e428a6de7912c89056c8842895e4145c7d1e42c5c17db2475804361d2d94af7@group.calendar.google.com'"
   ]
  },
  {
   "cell_type": "code",
   "execution_count": 49,
   "metadata": {},
   "outputs": [
    {
     "name": "stdout",
     "output_type": "stream",
     "text": [
      "Event created: Event created with ID: ¶begin Test #1 : Chapitre 5¶Week 3,\n",
      "Begin = Tuesday, May 20, 2025: 11:55 PM¶2025-05-20¶¶2025-05-20¶America/Toronto¶\n",
      "Event created: Event created with ID: ¶begin Peer‑Review Teams Populated¶Week 3,\n",
      "Begin = Tuesday, May 20, 2025: 4:30 PM¶2025-05-20¶¶2025-05-20¶America/Toronto¶\n",
      "Event created: Event created with ID: ¶begin Test #2 : Chapitre 6¶Week 5,\n",
      "Begin = Monday, June 02, 2025: 11:55 PM¶2025-06-02¶¶2025-06-02¶America/Toronto¶\n",
      "Event created: Event created with ID: ¶begin Test #3 : Chapitre 7¶Week 7,\n",
      "Begin = Monday, June 16, 2025: 11:55 PM¶2025-06-16¶¶2025-06-16¶America/Toronto¶\n",
      "Event created: Event created with ID: ¶begin Test #4 : Chapitre 8¶Week 9,\n",
      "Begin = Wednesday, July 02, 2025: 11:55 PM¶2025-07-02¶¶2025-07-02¶America/Toronto¶\n",
      "Event created: Event created with ID: ¶begin Test #5 : Chapitre 9¶Week 11,\n",
      "Begin = Monday, July 14, 2025: 11:55 PM¶2025-07-14¶¶2025-07-14¶America/Toronto¶\n",
      "Event created: Event created with ID: ¶begin Final Test¶Week 12,\n",
      "Begin = Monday, July 21, 2025: 11:55 PM¶2025-07-21¶¶2025-07-21¶America/Toronto¶\n",
      "Event created: Event created with ID: ¶Student Acknowledgement¶Week 2,\n",
      "Due Date = Monday, May 12, 2025: 11:55 PM¶2025-05-12¶¶2025-05-12¶America/Toronto¶\n",
      "Event created: Event created with ID: ¶Test #1 : Chapitre 5¶Week 3,\n",
      "Due Date = Friday, May 23, 2025: 11:55 PM (Test #1)¶2025-05-23¶¶2025-05-23¶America/Toronto¶\n",
      "Event created: Event created with ID: ¶Peer‑Review Teams Populated¶Week 3,\n",
      "Due Date = Tuesday, May 20, 2025: 4:30 PM (Teams populated)¶2025-05-20¶¶2025-05-20¶America/Toronto¶\n",
      "Event created: Event created with ID: ¶Written Assignment : Part A (Draft)¶Week 4,\n",
      "Due Date = Friday, May 30, 2025: 11:55 PM¶2025-05-30¶¶2025-05-30¶America/Toronto¶\n",
      "Event created: Event created with ID: ¶Test #2 : Chapitre 6¶Week 5,\n",
      "Due Date = Thursday, June 05, 2025: 11:55 PM (Test #2)¶2025-06-05¶¶2025-06-05¶America/Toronto¶\n",
      "Event created: Event created with ID: ¶Written Assignment : Part B (Peer Review)¶Week 5,\n",
      "Due Date = Friday, June 06, 2025: 11:55 PM¶2025-06-06¶¶2025-06-06¶America/Toronto¶\n",
      "Event created: Event created with ID: ¶Written Assignment : Part C (Final Draft)¶Week 6,\n",
      "Due Date = Friday, June 13, 2025: 11:55 PM¶2025-06-13¶¶2025-06-13¶America/Toronto¶\n",
      "Event created: Event created with ID: ¶Test #3 : Chapitre 7¶Week 7,\n",
      "Due Date = Thursday, June 19, 2025: 11:55 PM (Test #3)¶2025-06-19¶¶2025-06-19¶America/Toronto¶\n",
      "Event created: Event created with ID: ¶Test #4 : Chapitre 8¶Week 9,\n",
      "Due Date = Saturday, July 05, 2025: 11:55 PM (Test #4)¶2025-07-05¶¶2025-07-05¶America/Toronto¶\n",
      "Event created: Event created with ID: ¶Oral Assignment (Chapitre 8)¶Week 10,\n",
      "Due Date = Friday, July 11, 2025: 11:55 PM¶2025-07-11¶¶2025-07-11¶America/Toronto¶\n",
      "Event created: Event created with ID: ¶Test #5 : Chapitre 9¶Week 11,\n",
      "Due Date = Thursday, July 17, 2025: 11:55 PM (Test #5)¶2025-07-17¶¶2025-07-17¶America/Toronto¶\n",
      "Event created: Event created with ID: ¶Final Test¶Week 12,\n",
      "Due Date = Thursday, July 24, 2025: 11:55 PM (Final Test)¶2025-07-24¶¶2025-07-24¶America/Toronto¶\n"
     ]
    }
   ],
   "source": [
    "# Example usage\n",
    "# Assuming 'service' is your Google Calendar service object\n",
    "operation = 'create'  # or 'delete'\n",
    "handle_events(service, calendar_id= french, events_df = french_due_dates_df, operation = operation)"
   ]
  },
  {
   "cell_type": "code",
   "execution_count": 131,
   "metadata": {},
   "outputs": [],
   "source": [
    "def delete_all_events(service):\n",
    "    \"\"\"\n",
    "    Deletes all events listed in the global `recent_keys_dic` dictionary from the specified Google Calendar.\n",
    "\n",
    "    Args:\n",
    "    service (Resource): The Google Calendar service object.\n",
    "\n",
    "    Returns:\n",
    "    None\n",
    "    \"\"\"\n",
    "    # Copy keys to list to avoid RuntimeError due to change in dictionary size during iteration\n",
    "    keys_to_delete = list(recent_keys_dic.keys())\n",
    "    for key in keys_to_delete:\n",
    "        result = delete_event_by_key(service, key)\n",
    "        print(f\"Event deleted with key {key}: {result}\")\n",
    "\n",
    "        # not working"
   ]
  },
  {
   "cell_type": "markdown",
   "metadata": {},
   "source": [
    "need to fix delete operations, key is not working properly. Potential fix, create a key generation function and change create single event code."
   ]
  },
  {
   "cell_type": "markdown",
   "metadata": {},
   "source": [
    "# Main"
   ]
  },
  {
   "cell_type": "code",
   "execution_count": null,
   "metadata": {},
   "outputs": [],
   "source": [
    "def main():\n",
    "    service = setup_calendar_service()\n",
    "    upcoming_events = fetch_upcoming_events(service)\n",
    "    print(\"Upcoming Events:\", upcoming_events)\n",
    "    event_details = {\"summary\": \"New Meeting\", \"time\": \"Tomorrow at 10 AM\"}\n",
    "    new_event = add_new_event(service, event_details)\n",
    "    print(\"Added Event:\", new_event)"
   ]
  },
  {
   "cell_type": "markdown",
   "metadata": {},
   "source": [
    "# data"
   ]
  },
  {
   "cell_type": "code",
   "execution_count": 119,
   "metadata": {},
   "outputs": [
    {
     "data": {
      "text/html": [
       "<div>\n",
       "<style scoped>\n",
       "    .dataframe tbody tr th:only-of-type {\n",
       "        vertical-align: middle;\n",
       "    }\n",
       "\n",
       "    .dataframe tbody tr th {\n",
       "        vertical-align: top;\n",
       "    }\n",
       "\n",
       "    .dataframe thead th {\n",
       "        text-align: right;\n",
       "    }\n",
       "</style>\n",
       "<table border=\"1\" class=\"dataframe\">\n",
       "  <thead>\n",
       "    <tr style=\"text-align: right;\">\n",
       "      <th></th>\n",
       "      <th>title</th>\n",
       "      <th>event_date</th>\n",
       "      <th>description</th>\n",
       "    </tr>\n",
       "  </thead>\n",
       "  <tbody>\n",
       "    <tr>\n",
       "      <th>0</th>\n",
       "      <td>Rights and Responsibilities Agreement</td>\n",
       "      <td>2025-01-10</td>\n",
       "      <td>Week 1,\\nDue Date = Friday, January 10, 2025: ...</td>\n",
       "    </tr>\n",
       "    <tr>\n",
       "      <th>1</th>\n",
       "      <td>New Employee Orientation Exercise</td>\n",
       "      <td>2025-01-10</td>\n",
       "      <td>Week 1,\\nDue Date = Friday, January 10, 2025: ...</td>\n",
       "    </tr>\n",
       "  </tbody>\n",
       "</table>\n",
       "</div>"
      ],
      "text/plain": [
       "                                   title  event_date  \\\n",
       "0  Rights and Responsibilities Agreement  2025-01-10   \n",
       "1      New Employee Orientation Exercise  2025-01-10   \n",
       "\n",
       "                                         description  \n",
       "0  Week 1,\\nDue Date = Friday, January 10, 2025: ...  \n",
       "1  Week 1,\\nDue Date = Friday, January 10, 2025: ...  "
      ]
     },
     "execution_count": 119,
     "metadata": {},
     "output_type": "execute_result"
    }
   ],
   "source": []
  }
 ],
 "metadata": {
  "kernelspec": {
   "display_name": "sandboxenvmac",
   "language": "python",
   "name": "python3"
  },
  "language_info": {
   "codemirror_mode": {
    "name": "ipython",
    "version": 3
   },
   "file_extension": ".py",
   "mimetype": "text/x-python",
   "name": "python",
   "nbconvert_exporter": "python",
   "pygments_lexer": "ipython3",
   "version": "3.13.3"
  }
 },
 "nbformat": 4,
 "nbformat_minor": 2
}
